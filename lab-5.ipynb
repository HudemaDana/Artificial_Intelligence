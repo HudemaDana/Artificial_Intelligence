{
 "cells": [
  {
   "cell_type": "markdown",
   "id": "b8210b19",
   "metadata": {},
   "source": [
    "## A.I. Assignment 5\n",
    "\n",
    "## Learning Goals\n",
    "\n",
    "By the end of this lab, you should be able to:\n",
    "* Get more familiar with tensors in pytorch \n",
    "* Create a simple multilayer perceptron model with pytorch\n",
    "* Visualise the parameters\n",
    "\n",
    "\n",
    "### Task\n",
    "\n",
    "Build a fully connected feed forward network that adds two bits. Determine the a propper achitecture for this network (what database you use for this problem? how many layers? how many neurons on each layer? what is the activation function? what is the loss function? etc)\n",
    "\n",
    "Create at least 3 such networks and compare their performance (how accurate they are?, how farst they are trained to get at 1 accuracy?)\n",
    "\n",
    "Display for the best one the weights for each layer.\n"
   ]
  },
  {
   "cell_type": "code",
   "execution_count": 1,
   "id": "e3614e5f",
   "metadata": {},
   "outputs": [],
   "source": [
    "import torch\n",
    "import torch.nn as nn\n",
    "from collections import OrderedDict\n"
   ]
  },
  {
   "cell_type": "code",
   "execution_count": 7,
   "id": "5ee7e7d7",
   "metadata": {},
   "outputs": [],
   "source": [
    "# your code here\n",
    "model1 = nn.Sequential(OrderedDict([\n",
    "    ('fc1', nn.Linear(2, 2)),\n",
    "    ('sigmoid1', nn.Sigmoid()),\n",
    "    ('fc2', nn.Linear(2, 2)),\n",
    "    ('sigmoid2', nn.Sigmoid())\n",
    "]))"
   ]
  },
  {
   "cell_type": "code",
   "execution_count": 10,
   "id": "665ae958",
   "metadata": {},
   "outputs": [
    {
     "name": "stdout",
     "output_type": "stream",
     "text": [
      "Sequential(\n",
      "  (fc1): Linear(in_features=2, out_features=2, bias=True)\n",
      "  (sigmoid1): Sigmoid()\n",
      "  (fc2): Linear(in_features=2, out_features=2, bias=True)\n",
      "  (sigmoid2): Sigmoid()\n",
      ")\n"
     ]
    }
   ],
   "source": [
    "print(model1)"
   ]
  },
  {
   "cell_type": "code",
   "execution_count": 6,
   "id": "e26f0d3e",
   "metadata": {},
   "outputs": [
    {
     "name": "stdout",
     "output_type": "stream",
     "text": [
      "tensor([[0., 0.],\n",
      "        [0., 1.],\n",
      "        [1., 0.],\n",
      "        [1., 1.]])\n"
     ]
    }
   ],
   "source": [
    "# your code here\n",
    "data_in = torch.tensor([[0, 0], [0, 1], [1, 0], [1, 1]], dtype=torch.float)\n",
    "print(data_in)"
   ]
  },
  {
   "cell_type": "code",
   "execution_count": 12,
   "id": "4fb16bbc",
   "metadata": {},
   "outputs": [
    {
     "name": "stdout",
     "output_type": "stream",
     "text": [
      "tensor([[0., 0.],\n",
      "        [0., 1.],\n",
      "        [0., 1.],\n",
      "        [1., 0.]])\n"
     ]
    }
   ],
   "source": [
    "# your code here\n",
    "data_target = torch.tensor([[0, 0], [0, 1], [0, 1], [1, 0]], dtype=torch.float)\n",
    "print(data_target)"
   ]
  },
  {
   "cell_type": "code",
   "execution_count": 11,
   "id": "69d920ed",
   "metadata": {},
   "outputs": [],
   "source": [
    "# your code here\n",
    "criterion = nn.BCELoss()\n",
    "optimizer = optim.Adam(model1.parameters())"
   ]
  },
  {
   "cell_type": "code",
   "execution_count": 13,
   "id": "cde91f6f",
   "metadata": {},
   "outputs": [],
   "source": [
    "# your code here\n",
    "# Train the model\n",
    "for epoch in range(10000):\n",
    "    optimizer.zero_grad()\n",
    "    output = model_a(data_in)\n",
    "    loss = criterion(output, data_target)\n",
    "    loss.backward()\n",
    "    optimizer.step()"
   ]
  },
  {
   "cell_type": "code",
   "execution_count": 15,
   "id": "dff3ec1a",
   "metadata": {},
   "outputs": [
    {
     "name": "stdout",
     "output_type": "stream",
     "text": [
      "Loss: 0.6377874612808228, Accuracy: 0.5\n"
     ]
    }
   ],
   "source": [
    "# your code here\n",
    "# visualize the resuts\n",
    "with torch.no_grad():\n",
    "    output = model1(data_in)\n",
    "    loss = criterion(output, data_target)\n",
    "    acc = ((output> 0.5) == data_target).all(dim=1).float().mean()\n",
    "\n",
    "print(\"Loss: {}, Accuracy: {}\".format(loss, acc))"
   ]
  },
  {
   "cell_type": "code",
   "execution_count": 16,
   "id": "c1a7518b",
   "metadata": {},
   "outputs": [
    {
     "name": "stdout",
     "output_type": "stream",
     "text": [
      "Weights:\n",
      "fc1.weight Parameter containing:\n",
      "tensor([[-0.2330,  0.5564],\n",
      "        [-0.3924,  0.4677]], requires_grad=True)\n",
      "fc2.weight Parameter containing:\n",
      "tensor([[-0.5305,  0.1111],\n",
      "        [ 0.7005,  0.1177]], requires_grad=True)\n"
     ]
    }
   ],
   "source": [
    "# your code here\n",
    "# print model wights\n",
    "\n",
    "print(\"Weights:\")\n",
    "for name, param in model1.named_parameters():\n",
    "    if 'weight' in name:\n",
    "        print(name, param)"
   ]
  },
  {
   "cell_type": "code",
   "execution_count": null,
   "id": "4cdf09ba",
   "metadata": {},
   "outputs": [],
   "source": []
  },
  {
   "cell_type": "code",
   "execution_count": null,
   "id": "d0bea66c",
   "metadata": {},
   "outputs": [],
   "source": [
    "\n"
   ]
  },
  {
   "cell_type": "code",
   "execution_count": null,
   "id": "e29c65a2",
   "metadata": {},
   "outputs": [],
   "source": []
  },
  {
   "cell_type": "code",
   "execution_count": 27,
   "id": "df2e725f",
   "metadata": {},
   "outputs": [],
   "source": [
    "import torch\n",
    "import torch.nn as nn\n",
    "from collections import OrderedDict\n",
    "\n",
    "# Model 1\n",
    "model1 = nn.Sequential(OrderedDict([('fc1', nn.Linear(2, 1)),('sigmoid', nn.Sigmoid())]))\n",
    "\n",
    "# Model 2\n",
    "model2 = nn.Sequential(OrderedDict([('fc1', nn.Linear(2, 2)),('relu', nn.ReLU()),('fc2', nn.Linear(2, 1)),('sigmoid', nn.Sigmoid())]))\n",
    "\n",
    "# Model 3\n",
    "model3 = nn.Sequential(OrderedDict([('fc1', nn.Linear(2, 4)),('relu', nn.ReLU()),('fc2', nn.Linear(4, 1)),('sigmoid', nn.Sigmoid())]))\n",
    "\n",
    "# Define the dataset\n",
    "X_train = torch.tensor([[0, 0], [0, 1], [1, 0], [1, 1]], dtype=torch.float32)\n",
    "y_train = torch.tensor([[0], [1], [1], [0]], dtype=torch.float32)\n",
    "\n",
    "# Define the loss function and optimizer\n",
    "criterion = nn.BCELoss()\n",
    "optimizer1 = torch.optim.SGD(model1.parameters(), lr=0.1)\n",
    "optimizer2 = torch.optim.SGD(model2.parameters(), lr=0.1)\n",
    "optimizer3 = torch.optim.SGD(model3.parameters(), lr=0.1)\n",
    "\n",
    "# Train the models\n",
    "for epoch in range(1000):\n",
    "    # Model 1\n",
    "    optimizer1.zero_grad()\n",
    "    y_pred1 = model1(X_train)\n",
    "    loss1 = criterion(y_pred1, y_train)\n",
    "    loss1.backward()\n",
    "    optimizer1.step()\n",
    "\n",
    "    # Model 2\n",
    "    optimizer2.zero_grad()\n",
    "    y_pred2 = model2(X_train)\n",
    "    loss2 = criterion(y_pred2, y_train)\n",
    "    loss2.backward()\n",
    "    optimizer2.step()\n",
    "    \n",
    "    optimizer3.zero_grad()\n",
    "    y_pred3 = model3(X_train)\n",
    "    loss3 = criterion(y_pred3, y_train)\n",
    "    loss3.backward()\n",
    "    optimizer3.step()\n",
    "\n"
   ]
  },
  {
   "cell_type": "code",
   "execution_count": 6,
   "id": "ad130641",
   "metadata": {},
   "outputs": [
    {
     "name": "stdout",
     "output_type": "stream",
     "text": [
      "Network A - Loss: 0.6931473612785339, Accuracy: 0.75\n",
      "Network B - Loss: 0.6931471824645996, Accuracy: 0.5\n",
      "Network C - Loss: 0.6931588649749756, Accuracy: 0.5\n"
     ]
    }
   ],
   "source": [
    "with torch.no_grad():\n",
    "    output_a = model1(X_train)\n",
    "    loss_a = criterion(output_a, y_train)\n",
    "    acc_a = ((output_a > 0.5) == y_train).all(dim=1).float().mean()\n",
    "\n",
    "    output_b = model2(X_train)\n",
    "    loss_b = criterion(output_b, y_train)\n",
    "    acc_b = ((output_b > 0.5) == y_train).all(dim=1).float().mean()\n",
    "\n",
    "    output_c = model3(X_train)\n",
    "    loss_c = criterion(output_c, y_train)\n",
    "    acc_c = ((output_c > 0.5) == y_train).all(dim=1).float().mean()\n",
    "\n",
    "print(\"Network A - Loss: {}, Accuracy: {}\".format(loss_a, acc_a))\n",
    "print(\"Network B - Loss: {}, Accuracy: {}\".format(loss_b, acc_b))\n",
    "print(\"Network C - Loss: {}, Accuracy: {}\".format(loss_c, acc_c))"
   ]
  },
  {
   "cell_type": "code",
   "execution_count": 7,
   "id": "3f30a878",
   "metadata": {},
   "outputs": [
    {
     "name": "stdout",
     "output_type": "stream",
     "text": [
      "Weights for Network B:\n",
      "fc1.weight Parameter containing:\n",
      "tensor([[ 0.3389, -0.3712],\n",
      "        [-0.3476,  0.4740]], requires_grad=True)\n",
      "fc2.weight Parameter containing:\n",
      "tensor([[-0.4480, -0.0333]], requires_grad=True)\n",
      "Weights for Network C:\n",
      "fc1.weight Parameter containing:\n",
      "tensor([[-0.2266,  0.5640],\n",
      "        [ 0.1517, -0.0569],\n",
      "        [-0.2324,  0.4193],\n",
      "        [ 0.4100,  0.5991]], requires_grad=True)\n",
      "fc2.weight Parameter containing:\n",
      "tensor([[-0.0699, -0.1174,  0.1135,  0.0518]], requires_grad=True)\n"
     ]
    }
   ],
   "source": [
    "print(\"Weights for Network B:\")\n",
    "for name, param in model2.named_parameters():\n",
    "    if 'weight' in name:\n",
    "        print(name, param)\n",
    "        \n",
    "print(\"Weights for Network C:\")\n",
    "for name, param in model3.named_parameters():\n",
    "    if 'weight' in name:\n",
    "        print(name, param)"
   ]
  },
  {
   "cell_type": "code",
   "execution_count": 9,
   "id": "bea7108a",
   "metadata": {},
   "outputs": [
    {
     "data": {
      "image/png": "[encoded data removed]",
      "text/plain": [
       "<Figure size 640x480 with 3 Axes>"
      ]
     },
     "metadata": {},
     "output_type": "display_data"
    }
   ],
   "source": [
    "import matplotlib.pyplot as plt\n",
    "import numpy as np\n",
    "\n",
    "# Define the test inputs\n",
    "X_test = torch.tensor([[0, 0], [0, 1], [1, 0], [1, 1]], dtype=torch.float32)\n",
    "\n",
    "# Model 1\n",
    "y_pred1 = model1(X_test).detach().numpy()\n",
    "plt.subplot(1, 3, 1)\n",
    "plt.title(\"Model 1\")\n",
    "plt.scatter(X_test[:, 0], X_test[:, 1], c=y_pred1, cmap='viridis')\n",
    "plt.xlabel(\"Input 1\")\n",
    "plt.ylabel(\"Input 2\")\n",
    "\n",
    "# Model 2\n",
    "y_pred2 = model2(X_test).detach().numpy()\n",
    "plt.subplot(1, 3, 2)\n",
    "plt.title(\"Model 2\")\n",
    "plt.scatter(X_test[:, 0], X_test[:, 1], c=y_pred2, cmap='viridis')\n",
    "plt.xlabel(\"Input 1\")\n",
    "plt.ylabel(\"Input 2\")\n",
    "\n",
    "# Model 3\n",
    "y_pred3 = model3(X_test).detach().numpy()\n",
    "plt.subplot(1, 3, 3)\n",
    "plt.title(\"Model 3\")\n",
    "plt.scatter(X_test[:, 0], X_test[:, 1], c=y_pred3, cmap='viridis')\n",
    "plt.xlabel(\"Input 1\")\n",
    "plt.ylabel(\"Input 2\")\n",
    "\n",
    "plt.show()"
   ]
  },
  {
   "cell_type": "code",
   "execution_count": null,
   "id": "50010397",
   "metadata": {},
   "outputs": [],
   "source": []
  }
 ],
 "metadata": {
  "kernelspec": {
   "display_name": "Python 3 (ipykernel)",
   "language": "python",
   "name": "python3"
  },
  "language_info": {
   "codemirror_mode": {
    "name": "ipython",
    "version": 3
   },
   "file_extension": ".py",
   "mimetype": "text/x-python",
   "name": "python",
   "nbconvert_exporter": "python",
   "pygments_lexer": "ipython3",
   "version": "3.9.13"
  }
 },
 "nbformat": 4,
 "nbformat_minor": 5
}
